{
 "cells": [
  {
   "cell_type": "code",
   "execution_count": null,
   "id": "c6018cbf",
   "metadata": {},
   "outputs": [
    {
     "ename": "",
     "evalue": "",
     "output_type": "error",
     "traceback": [
      "\u001b[1;31mRunning cells with 'c:\\Users\\Ivar\\Downloads\\input\\end-to-end-bosten-housing-project\\venv\\python.exe' requires the ipykernel package.\n",
      "\u001b[1;31mRun the following command to install 'ipykernel' into the Python environment. \n",
      "\u001b[1;31mCommand: 'conda install -p c:\\Users\\Ivar\\Downloads\\input\\end-to-end-bosten-housing-project\\venv ipykernel --update-deps --force-reinstall'"
     ]
    }
   ],
   "source": [
    "def add(x,y):\n",
    "    return x+y\n",
    "def subtract(x,y):\n",
    "    return x-y\n",
    "def multiplaction(x,y):\n",
    "    return x*y\n",
    "def division(x,y):\n",
    "    return x/y\n"
   ]
  },
  {
   "cell_type": "code",
   "execution_count": null,
   "id": "d167b5a2",
   "metadata": {},
   "outputs": [
    {
     "ename": "",
     "evalue": "",
     "output_type": "error",
     "traceback": [
      "\u001b[1;31mRunning cells with 'c:\\Users\\Ivar\\Downloads\\input\\end-to-end-bosten-housing-project\\venv\\python.exe' requires the ipykernel package.\n",
      "\u001b[1;31mRun the following command to install 'ipykernel' into the Python environment. \n",
      "\u001b[1;31mCommand: 'conda install -p c:\\Users\\Ivar\\Downloads\\input\\end-to-end-bosten-housing-project\\venv ipykernel --update-deps --force-reinstall'"
     ]
    }
   ],
   "source": [
    "choice=input('enter choice (A,S,M,D): ')\n",
    "num1=input('enter first number:')\n",
    "num2=input('enter second number:')\n",
    "   \n"
   ]
  },
  {
   "cell_type": "code",
   "execution_count": null,
   "id": "7388c8da",
   "metadata": {
    "scrolled": true
   },
   "outputs": [
    {
     "ename": "",
     "evalue": "",
     "output_type": "error",
     "traceback": [
      "\u001b[1;31mRunning cells with 'c:\\Users\\Ivar\\Downloads\\input\\end-to-end-bosten-housing-project\\venv\\python.exe' requires the ipykernel package.\n",
      "\u001b[1;31mRun the following command to install 'ipykernel' into the Python environment. \n",
      "\u001b[1;31mCommand: 'conda install -p c:\\Users\\Ivar\\Downloads\\input\\end-to-end-bosten-housing-project\\venv ipykernel --update-deps --force-reinstall'"
     ]
    }
   ],
   "source": [
    "choice=input('enter choice (A,S,M,D): ')\n",
    "if choice.upper() in  ('A','ADD','ADDITTION','S','subtract','subtraction','M','MULPICATION','D','DIVISION'):\n",
    "        N1=float(input('enter first number:'))\n",
    "        N2=float(input('enter second number:')  )  \n",
    "        if choice.upper() in ('A','ADDTION','ADD'):\n",
    "                print(add(N1,N2))\n",
    "        elif choice.upper() in ('S','subtract','subtraction'):\n",
    "                print(subtract(N1,N2))\n",
    "        elif choice.upper() in ('M','MULPICATION'):\n",
    "                print(multiplcation(N1,N2))\n",
    "        elif choice.upper() in ('D','DIVISION'):\n",
    "                print(division(N1,N2))\n",
    "else:\n",
    "    print('print input the correct the choice ')"
   ]
  },
  {
   "cell_type": "markdown",
   "id": "7177b2b8",
   "metadata": {},
   "source": [
    "boston house pricing "
   ]
  },
  {
   "cell_type": "code",
   "execution_count": null,
   "id": "cc578180",
   "metadata": {
    "scrolled": true
   },
   "outputs": [
    {
     "ename": "",
     "evalue": "",
     "output_type": "error",
     "traceback": [
      "\u001b[1;31mRunning cells with 'c:\\Users\\Ivar\\Downloads\\input\\end-to-end-bosten-housing-project\\venv\\python.exe' requires the ipykernel package.\n",
      "\u001b[1;31mRun the following command to install 'ipykernel' into the Python environment. \n",
      "\u001b[1;31mCommand: 'conda install -p c:\\Users\\Ivar\\Downloads\\input\\end-to-end-bosten-housing-project\\venv ipykernel --update-deps --force-reinstall'"
     ]
    }
   ],
   "source": [
    "from sklearn.datasets import load_boston"
   ]
  },
  {
   "cell_type": "code",
   "execution_count": null,
   "id": "59aeb818",
   "metadata": {},
   "outputs": [
    {
     "ename": "",
     "evalue": "",
     "output_type": "error",
     "traceback": [
      "\u001b[1;31mRunning cells with 'c:\\Users\\Ivar\\Downloads\\input\\end-to-end-bosten-housing-project\\venv\\python.exe' requires the ipykernel package.\n",
      "\u001b[1;31mRun the following command to install 'ipykernel' into the Python environment. \n",
      "\u001b[1;31mCommand: 'conda install -p c:\\Users\\Ivar\\Downloads\\input\\end-to-end-bosten-housing-project\\venv ipykernel --update-deps --force-reinstall'"
     ]
    }
   ],
   "source": [
    "from sklearn.datasets import fetch_california_housing\n",
    "housing = fetch_california_housing()"
   ]
  },
  {
   "cell_type": "code",
   "execution_count": null,
   "id": "cd0ea5f3",
   "metadata": {},
   "outputs": [
    {
     "ename": "",
     "evalue": "",
     "output_type": "error",
     "traceback": [
      "\u001b[1;31mRunning cells with 'c:\\Users\\Ivar\\Downloads\\input\\end-to-end-bosten-housing-project\\venv\\python.exe' requires the ipykernel package.\n",
      "\u001b[1;31mRun the following command to install 'ipykernel' into the Python environment. \n",
      "\u001b[1;31mCommand: 'conda install -p c:\\Users\\Ivar\\Downloads\\input\\end-to-end-bosten-housing-project\\venv ipykernel --update-deps --force-reinstall'"
     ]
    }
   ],
   "source": [
    "housing.keys()"
   ]
  },
  {
   "cell_type": "code",
   "execution_count": null,
   "id": "0a6794c3",
   "metadata": {},
   "outputs": [
    {
     "ename": "",
     "evalue": "",
     "output_type": "error",
     "traceback": [
      "\u001b[1;31mRunning cells with 'c:\\Users\\Ivar\\Downloads\\input\\end-to-end-bosten-housing-project\\venv\\python.exe' requires the ipykernel package.\n",
      "\u001b[1;31mRun the following command to install 'ipykernel' into the Python environment. \n",
      "\u001b[1;31mCommand: 'conda install -p c:\\Users\\Ivar\\Downloads\\input\\end-to-end-bosten-housing-project\\venv ipykernel --update-deps --force-reinstall'"
     ]
    }
   ],
   "source": [
    "print(housing.DESCR)"
   ]
  },
  {
   "cell_type": "code",
   "execution_count": null,
   "id": "fc3126f9",
   "metadata": {},
   "outputs": [
    {
     "ename": "",
     "evalue": "",
     "output_type": "error",
     "traceback": [
      "\u001b[1;31mRunning cells with 'c:\\Users\\Ivar\\Downloads\\input\\end-to-end-bosten-housing-project\\venv\\python.exe' requires the ipykernel package.\n",
      "\u001b[1;31mRun the following command to install 'ipykernel' into the Python environment. \n",
      "\u001b[1;31mCommand: 'conda install -p c:\\Users\\Ivar\\Downloads\\input\\end-to-end-bosten-housing-project\\venv ipykernel --update-deps --force-reinstall'"
     ]
    }
   ],
   "source": [
    "print(housing.feature_names)"
   ]
  },
  {
   "cell_type": "markdown",
   "id": "f61f9dd4",
   "metadata": {},
   "source": [
    "EDA prepaing the dataset\n"
   ]
  },
  {
   "cell_type": "code",
   "execution_count": null,
   "id": "e4026423",
   "metadata": {
    "scrolled": false
   },
   "outputs": [
    {
     "ename": "",
     "evalue": "",
     "output_type": "error",
     "traceback": [
      "\u001b[1;31mRunning cells with 'c:\\Users\\Ivar\\Downloads\\input\\end-to-end-bosten-housing-project\\venv\\python.exe' requires the ipykernel package.\n",
      "\u001b[1;31mRun the following command to install 'ipykernel' into the Python environment. \n",
      "\u001b[1;31mCommand: 'conda install -p c:\\Users\\Ivar\\Downloads\\input\\end-to-end-bosten-housing-project\\venv ipykernel --update-deps --force-reinstall'"
     ]
    }
   ],
   "source": [
    "import pandas as pd\n",
    "\n",
    "dataset=pd.DataFrame(housing.data,columns=housing.feature_names)\n",
    "dataset"
   ]
  },
  {
   "cell_type": "code",
   "execution_count": null,
   "id": "5634a64b",
   "metadata": {},
   "outputs": [
    {
     "ename": "",
     "evalue": "",
     "output_type": "error",
     "traceback": [
      "\u001b[1;31mRunning cells with 'c:\\Users\\Ivar\\Downloads\\input\\end-to-end-bosten-housing-project\\venv\\python.exe' requires the ipykernel package.\n",
      "\u001b[1;31mRun the following command to install 'ipykernel' into the Python environment. \n",
      "\u001b[1;31mCommand: 'conda install -p c:\\Users\\Ivar\\Downloads\\input\\end-to-end-bosten-housing-project\\venv ipykernel --update-deps --force-reinstall'"
     ]
    }
   ],
   "source": [
    "print(housing.target_names)"
   ]
  },
  {
   "cell_type": "code",
   "execution_count": null,
   "id": "6ffd8b73",
   "metadata": {},
   "outputs": [
    {
     "ename": "",
     "evalue": "",
     "output_type": "error",
     "traceback": [
      "\u001b[1;31mRunning cells with 'c:\\Users\\Ivar\\Downloads\\input\\end-to-end-bosten-housing-project\\venv\\python.exe' requires the ipykernel package.\n",
      "\u001b[1;31mRun the following command to install 'ipykernel' into the Python environment. \n",
      "\u001b[1;31mCommand: 'conda install -p c:\\Users\\Ivar\\Downloads\\input\\end-to-end-bosten-housing-project\\venv ipykernel --update-deps --force-reinstall'"
     ]
    }
   ],
   "source": [
    "dataset['value']=housing.target\n",
    "dataset.head()"
   ]
  },
  {
   "cell_type": "code",
   "execution_count": null,
   "id": "75236ae8",
   "metadata": {},
   "outputs": [
    {
     "ename": "",
     "evalue": "",
     "output_type": "error",
     "traceback": [
      "\u001b[1;31mRunning cells with 'c:\\Users\\Ivar\\Downloads\\input\\end-to-end-bosten-housing-project\\venv\\python.exe' requires the ipykernel package.\n",
      "\u001b[1;31mRun the following command to install 'ipykernel' into the Python environment. \n",
      "\u001b[1;31mCommand: 'conda install -p c:\\Users\\Ivar\\Downloads\\input\\end-to-end-bosten-housing-project\\venv ipykernel --update-deps --force-reinstall'"
     ]
    }
   ],
   "source": [
    "dataset.info()"
   ]
  },
  {
   "cell_type": "code",
   "execution_count": null,
   "id": "2806cebb",
   "metadata": {},
   "outputs": [
    {
     "ename": "",
     "evalue": "",
     "output_type": "error",
     "traceback": [
      "\u001b[1;31mRunning cells with 'c:\\Users\\Ivar\\Downloads\\input\\end-to-end-bosten-housing-project\\venv\\python.exe' requires the ipykernel package.\n",
      "\u001b[1;31mRun the following command to install 'ipykernel' into the Python environment. \n",
      "\u001b[1;31mCommand: 'conda install -p c:\\Users\\Ivar\\Downloads\\input\\end-to-end-bosten-housing-project\\venv ipykernel --update-deps --force-reinstall'"
     ]
    }
   ],
   "source": [
    "#data descrbtion and missing value "
   ]
  },
  {
   "cell_type": "code",
   "execution_count": null,
   "id": "ceb6b005",
   "metadata": {},
   "outputs": [
    {
     "ename": "",
     "evalue": "",
     "output_type": "error",
     "traceback": [
      "\u001b[1;31mRunning cells with 'c:\\Users\\Ivar\\Downloads\\input\\end-to-end-bosten-housing-project\\venv\\python.exe' requires the ipykernel package.\n",
      "\u001b[1;31mRun the following command to install 'ipykernel' into the Python environment. \n",
      "\u001b[1;31mCommand: 'conda install -p c:\\Users\\Ivar\\Downloads\\input\\end-to-end-bosten-housing-project\\venv ipykernel --update-deps --force-reinstall'"
     ]
    }
   ],
   "source": []
  },
  {
   "cell_type": "code",
   "execution_count": null,
   "id": "c7364f14",
   "metadata": {},
   "outputs": [
    {
     "ename": "",
     "evalue": "",
     "output_type": "error",
     "traceback": [
      "\u001b[1;31mRunning cells with 'c:\\Users\\Ivar\\Downloads\\input\\end-to-end-bosten-housing-project\\venv\\python.exe' requires the ipykernel package.\n",
      "\u001b[1;31mRun the following command to install 'ipykernel' into the Python environment. \n",
      "\u001b[1;31mCommand: 'conda install -p c:\\Users\\Ivar\\Downloads\\input\\end-to-end-bosten-housing-project\\venv ipykernel --update-deps --force-reinstall'"
     ]
    }
   ],
   "source": [
    "#eda and cprelation"
   ]
  },
  {
   "cell_type": "code",
   "execution_count": null,
   "id": "259a1806",
   "metadata": {
    "scrolled": true
   },
   "outputs": [
    {
     "ename": "",
     "evalue": "",
     "output_type": "error",
     "traceback": [
      "\u001b[1;31mRunning cells with 'c:\\Users\\Ivar\\Downloads\\input\\end-to-end-bosten-housing-project\\venv\\python.exe' requires the ipykernel package.\n",
      "\u001b[1;31mRun the following command to install 'ipykernel' into the Python environment. \n",
      "\u001b[1;31mCommand: 'conda install -p c:\\Users\\Ivar\\Downloads\\input\\end-to-end-bosten-housing-project\\venv ipykernel --update-deps --force-reinstall'"
     ]
    }
   ],
   "source": [
    "dataset.corr()"
   ]
  },
  {
   "cell_type": "code",
   "execution_count": null,
   "id": "5e4126e3",
   "metadata": {},
   "outputs": [
    {
     "ename": "",
     "evalue": "",
     "output_type": "error",
     "traceback": [
      "\u001b[1;31mRunning cells with 'c:\\Users\\Ivar\\Downloads\\input\\end-to-end-bosten-housing-project\\venv\\python.exe' requires the ipykernel package.\n",
      "\u001b[1;31mRun the following command to install 'ipykernel' into the Python environment. \n",
      "\u001b[1;31mCommand: 'conda install -p c:\\Users\\Ivar\\Downloads\\input\\end-to-end-bosten-housing-project\\venv ipykernel --update-deps --force-reinstall'"
     ]
    }
   ],
   "source": [
    "import seaborn as sns \n",
    "sns.pairplot(dataset)"
   ]
  },
  {
   "cell_type": "code",
   "execution_count": null,
   "id": "9a9771e3",
   "metadata": {
    "scrolled": true
   },
   "outputs": [
    {
     "ename": "",
     "evalue": "",
     "output_type": "error",
     "traceback": [
      "\u001b[1;31mRunning cells with 'c:\\Users\\Ivar\\Downloads\\input\\end-to-end-bosten-housing-project\\venv\\python.exe' requires the ipykernel package.\n",
      "\u001b[1;31mRun the following command to install 'ipykernel' into the Python environment. \n",
      "\u001b[1;31mCommand: 'conda install -p c:\\Users\\Ivar\\Downloads\\input\\end-to-end-bosten-housing-project\\venv ipykernel --update-deps --force-reinstall'"
     ]
    }
   ],
   "source": [
    "import matplotlib.pyplot as plt\n",
    "plt.scatter(dataset['value'],dataset['Population'])\n",
    "plt.xlabel('value')\n",
    "plt.ylabel('Population')"
   ]
  },
  {
   "cell_type": "code",
   "execution_count": null,
   "id": "7a0d249e",
   "metadata": {},
   "outputs": [
    {
     "ename": "",
     "evalue": "",
     "output_type": "error",
     "traceback": [
      "\u001b[1;31mRunning cells with 'c:\\Users\\Ivar\\Downloads\\input\\end-to-end-bosten-housing-project\\venv\\python.exe' requires the ipykernel package.\n",
      "\u001b[1;31mRun the following command to install 'ipykernel' into the Python environment. \n",
      "\u001b[1;31mCommand: 'conda install -p c:\\Users\\Ivar\\Downloads\\input\\end-to-end-bosten-housing-project\\venv ipykernel --update-deps --force-reinstall'"
     ]
    }
   ],
   "source": [
    "sns.regplot(x='value',y='HouseAge',data=dataset)"
   ]
  },
  {
   "cell_type": "code",
   "execution_count": null,
   "id": "4b9840eb",
   "metadata": {},
   "outputs": [
    {
     "ename": "",
     "evalue": "",
     "output_type": "error",
     "traceback": [
      "\u001b[1;31mRunning cells with 'c:\\Users\\Ivar\\Downloads\\input\\end-to-end-bosten-housing-project\\venv\\python.exe' requires the ipykernel package.\n",
      "\u001b[1;31mRun the following command to install 'ipykernel' into the Python environment. \n",
      "\u001b[1;31mCommand: 'conda install -p c:\\Users\\Ivar\\Downloads\\input\\end-to-end-bosten-housing-project\\venv ipykernel --update-deps --force-reinstall'"
     ]
    }
   ],
   "source": []
  },
  {
   "cell_type": "code",
   "execution_count": null,
   "id": "e384078e",
   "metadata": {},
   "outputs": [
    {
     "ename": "",
     "evalue": "",
     "output_type": "error",
     "traceback": [
      "\u001b[1;31mRunning cells with 'c:\\Users\\Ivar\\Downloads\\input\\end-to-end-bosten-housing-project\\venv\\python.exe' requires the ipykernel package.\n",
      "\u001b[1;31mRun the following command to install 'ipykernel' into the Python environment. \n",
      "\u001b[1;31mCommand: 'conda install -p c:\\Users\\Ivar\\Downloads\\input\\end-to-end-bosten-housing-project\\venv ipykernel --update-deps --force-reinstall'"
     ]
    }
   ],
   "source": []
  },
  {
   "cell_type": "code",
   "execution_count": null,
   "id": "7d6f464e",
   "metadata": {},
   "outputs": [
    {
     "ename": "",
     "evalue": "",
     "output_type": "error",
     "traceback": [
      "\u001b[1;31mRunning cells with 'c:\\Users\\Ivar\\Downloads\\input\\end-to-end-bosten-housing-project\\venv\\python.exe' requires the ipykernel package.\n",
      "\u001b[1;31mRun the following command to install 'ipykernel' into the Python environment. \n",
      "\u001b[1;31mCommand: 'conda install -p c:\\Users\\Ivar\\Downloads\\input\\end-to-end-bosten-housing-project\\venv ipykernel --update-deps --force-reinstall'"
     ]
    }
   ],
   "source": []
  },
  {
   "cell_type": "code",
   "execution_count": null,
   "id": "a2a441c2",
   "metadata": {},
   "outputs": [
    {
     "ename": "",
     "evalue": "",
     "output_type": "error",
     "traceback": [
      "\u001b[1;31mRunning cells with 'c:\\Users\\Ivar\\Downloads\\input\\end-to-end-bosten-housing-project\\venv\\python.exe' requires the ipykernel package.\n",
      "\u001b[1;31mRun the following command to install 'ipykernel' into the Python environment. \n",
      "\u001b[1;31mCommand: 'conda install -p c:\\Users\\Ivar\\Downloads\\input\\end-to-end-bosten-housing-project\\venv ipykernel --update-deps --force-reinstall'"
     ]
    }
   ],
   "source": [
    "import numpy as np\n",
    "import pandas as pd \n",
    "import os\n",
    "\n",
    "from pandas import read_csv\n",
    "\n",
    "\n",
    "path = 'C:/Users/Ivar/Downloads/input/housing.csv'\n",
    "column_names = ['CRIM', 'ZN', 'INDUS', 'CHAS', 'NOX', 'RM', 'AGE', 'DIS', 'RAD', 'TAX', 'PTRATIO', 'B', 'LSTAT', 'MEDV']\n",
    "data_set= read_csv(path,header=None,delimiter=r\"\\s+\",names=column_names)\n",
    "print(data_set.head(5))"
   ]
  },
  {
   "cell_type": "code",
   "execution_count": null,
   "id": "820712e7",
   "metadata": {},
   "outputs": [
    {
     "ename": "",
     "evalue": "",
     "output_type": "error",
     "traceback": [
      "\u001b[1;31mRunning cells with 'c:\\Users\\Ivar\\Downloads\\input\\end-to-end-bosten-housing-project\\venv\\python.exe' requires the ipykernel package.\n",
      "\u001b[1;31mRun the following command to install 'ipykernel' into the Python environment. \n",
      "\u001b[1;31mCommand: 'conda install -p c:\\Users\\Ivar\\Downloads\\input\\end-to-end-bosten-housing-project\\venv ipykernel --update-deps --force-reinstall'"
     ]
    }
   ],
   "source": [
    "#dataset=pd.DataFrame(data,colomns=data.feature_names)"
   ]
  },
  {
   "cell_type": "code",
   "execution_count": null,
   "id": "e76cb9e3",
   "metadata": {},
   "outputs": [
    {
     "ename": "",
     "evalue": "",
     "output_type": "error",
     "traceback": [
      "\u001b[1;31mRunning cells with 'c:\\Users\\Ivar\\Downloads\\input\\end-to-end-bosten-housing-project\\venv\\python.exe' requires the ipykernel package.\n",
      "\u001b[1;31mRun the following command to install 'ipykernel' into the Python environment. \n",
      "\u001b[1;31mCommand: 'conda install -p c:\\Users\\Ivar\\Downloads\\input\\end-to-end-bosten-housing-project\\venv ipykernel --update-deps --force-reinstall'"
     ]
    }
   ],
   "source": [
    "data_set.keys()"
   ]
  },
  {
   "cell_type": "code",
   "execution_count": null,
   "id": "b70da6e5",
   "metadata": {},
   "outputs": [
    {
     "ename": "",
     "evalue": "",
     "output_type": "error",
     "traceback": [
      "\u001b[1;31mRunning cells with 'c:\\Users\\Ivar\\Downloads\\input\\end-to-end-bosten-housing-project\\venv\\python.exe' requires the ipykernel package.\n",
      "\u001b[1;31mRun the following command to install 'ipykernel' into the Python environment. \n",
      "\u001b[1;31mCommand: 'conda install -p c:\\Users\\Ivar\\Downloads\\input\\end-to-end-bosten-housing-project\\venv ipykernel --update-deps --force-reinstall'"
     ]
    }
   ],
   "source": [
    "\n",
    "data_set.describe()\n",
    "data_set.isnull()"
   ]
  },
  {
   "cell_type": "code",
   "execution_count": null,
   "id": "efe0a569",
   "metadata": {},
   "outputs": [
    {
     "ename": "",
     "evalue": "",
     "output_type": "error",
     "traceback": [
      "\u001b[1;31mRunning cells with 'c:\\Users\\Ivar\\Downloads\\input\\end-to-end-bosten-housing-project\\venv\\python.exe' requires the ipykernel package.\n",
      "\u001b[1;31mRun the following command to install 'ipykernel' into the Python environment. \n",
      "\u001b[1;31mCommand: 'conda install -p c:\\Users\\Ivar\\Downloads\\input\\end-to-end-bosten-housing-project\\venv ipykernel --update-deps --force-reinstall'"
     ]
    }
   ],
   "source": [
    "#data correlation\n",
    "#multi correlation (bteween independet feature )and other corr-if we have more than one dependat feature and  the out put value\n",
    "data_set.corr()"
   ]
  },
  {
   "cell_type": "code",
   "execution_count": null,
   "id": "8ac95aa9",
   "metadata": {},
   "outputs": [
    {
     "ename": "",
     "evalue": "",
     "output_type": "error",
     "traceback": [
      "\u001b[1;31mRunning cells with 'c:\\Users\\Ivar\\Downloads\\input\\end-to-end-bosten-housing-project\\venv\\python.exe' requires the ipykernel package.\n",
      "\u001b[1;31mRun the following command to install 'ipykernel' into the Python environment. \n",
      "\u001b[1;31mCommand: 'conda install -p c:\\Users\\Ivar\\Downloads\\input\\end-to-end-bosten-housing-project\\venv ipykernel --update-deps --force-reinstall'"
     ]
    }
   ],
   "source": [
    "import seaborn as sns\n",
    "\n",
    "import matplotlib.pyplot as plt\n",
    "sns.pairplot(data_set)"
   ]
  },
  {
   "cell_type": "code",
   "execution_count": null,
   "id": "24284912",
   "metadata": {},
   "outputs": [
    {
     "ename": "",
     "evalue": "",
     "output_type": "error",
     "traceback": [
      "\u001b[1;31mRunning cells with 'c:\\Users\\Ivar\\Downloads\\input\\end-to-end-bosten-housing-project\\venv\\python.exe' requires the ipykernel package.\n",
      "\u001b[1;31mRun the following command to install 'ipykernel' into the Python environment. \n",
      "\u001b[1;31mCommand: 'conda install -p c:\\Users\\Ivar\\Downloads\\input\\end-to-end-bosten-housing-project\\venv ipykernel --update-deps --force-reinstall'"
     ]
    }
   ],
   "source": [
    "#so lets do the analysis based on the correlation\n",
    "plt.scatter(data_set['CRIM'],data_set['MEDV'])\n",
    "plt.xlabel('crime rate')\n",
    "plt.ylabel('price')"
   ]
  },
  {
   "cell_type": "code",
   "execution_count": null,
   "id": "f516a921",
   "metadata": {},
   "outputs": [
    {
     "ename": "",
     "evalue": "",
     "output_type": "error",
     "traceback": [
      "\u001b[1;31mRunning cells with 'c:\\Users\\Ivar\\Downloads\\input\\end-to-end-bosten-housing-project\\venv\\python.exe' requires the ipykernel package.\n",
      "\u001b[1;31mRun the following command to install 'ipykernel' into the Python environment. \n",
      "\u001b[1;31mCommand: 'conda install -p c:\\Users\\Ivar\\Downloads\\input\\end-to-end-bosten-housing-project\\venv ipykernel --update-deps --force-reinstall'"
     ]
    }
   ],
   "source": [
    "plt.scatter(data['RM'],data['MEDV'])\n",
    "sns.regplot(x=\"RM\",y=\"MEDV\",data=data)\n",
    "sns.regplot(x=\"LSTAT\",y=\"MEDV\",data=data)\n",
    "# the number of room increse the price increas and indirect relation with lstat and price"
   ]
  },
  {
   "cell_type": "code",
   "execution_count": null,
   "id": "1a8e3f5d",
   "metadata": {
    "scrolled": false
   },
   "outputs": [
    {
     "ename": "",
     "evalue": "",
     "output_type": "error",
     "traceback": [
      "\u001b[1;31mRunning cells with 'c:\\Users\\Ivar\\Downloads\\input\\end-to-end-bosten-housing-project\\venv\\python.exe' requires the ipykernel package.\n",
      "\u001b[1;31mRun the following command to install 'ipykernel' into the Python environment. \n",
      "\u001b[1;31mCommand: 'conda install -p c:\\Users\\Ivar\\Downloads\\input\\end-to-end-bosten-housing-project\\venv ipykernel --update-deps --force-reinstall'"
     ]
    }
   ],
   "source": [
    "#dependat feature and independat feature \n",
    "\n",
    "x=data_set.iloc[:,:-1]\n",
    "y=data_set.iloc[:,-1]\n",
    "print(y)"
   ]
  },
  {
   "cell_type": "code",
   "execution_count": null,
   "id": "78209b5c",
   "metadata": {},
   "outputs": [
    {
     "ename": "",
     "evalue": "",
     "output_type": "error",
     "traceback": [
      "\u001b[1;31mRunning cells with 'c:\\Users\\Ivar\\Downloads\\input\\end-to-end-bosten-housing-project\\venv\\python.exe' requires the ipykernel package.\n",
      "\u001b[1;31mRun the following command to install 'ipykernel' into the Python environment. \n",
      "\u001b[1;31mCommand: 'conda install -p c:\\Users\\Ivar\\Downloads\\input\\end-to-end-bosten-housing-project\\venv ipykernel --update-deps --force-reinstall'"
     ]
    }
   ],
   "source": [
    "from sklearn.model_selection import train_test_split\n",
    "x_train,x_test,y_train,y_test=train_test_split(x,y,test_size=0.3,random_state=32)"
   ]
  },
  {
   "cell_type": "code",
   "execution_count": null,
   "id": "f8e77c33",
   "metadata": {},
   "outputs": [
    {
     "ename": "",
     "evalue": "",
     "output_type": "error",
     "traceback": [
      "\u001b[1;31mRunning cells with 'c:\\Users\\Ivar\\Downloads\\input\\end-to-end-bosten-housing-project\\venv\\python.exe' requires the ipykernel package.\n",
      "\u001b[1;31mRun the following command to install 'ipykernel' into the Python environment. \n",
      "\u001b[1;31mCommand: 'conda install -p c:\\Users\\Ivar\\Downloads\\input\\end-to-end-bosten-housing-project\\venv ipykernel --update-deps --force-reinstall'"
     ]
    }
   ],
   "source": [
    "print(x_test.shape)"
   ]
  },
  {
   "cell_type": "code",
   "execution_count": null,
   "id": "a5a30cbc",
   "metadata": {},
   "outputs": [
    {
     "ename": "",
     "evalue": "",
     "output_type": "error",
     "traceback": [
      "\u001b[1;31mRunning cells with 'c:\\Users\\Ivar\\Downloads\\input\\end-to-end-bosten-housing-project\\venv\\python.exe' requires the ipykernel package.\n",
      "\u001b[1;31mRun the following command to install 'ipykernel' into the Python environment. \n",
      "\u001b[1;31mCommand: 'conda install -p c:\\Users\\Ivar\\Downloads\\input\\end-to-end-bosten-housing-project\\venv ipykernel --update-deps --force-reinstall'"
     ]
    }
   ],
   "source": [
    "#standard sclaing\n",
    "#to make gradindet decent faster so we have to normalaze it \n",
    "from sklearn.preprocessing import StandardScaler\n",
    "scaler=StandardScaler()"
   ]
  },
  {
   "cell_type": "code",
   "execution_count": null,
   "id": "7661deba",
   "metadata": {},
   "outputs": [
    {
     "ename": "",
     "evalue": "",
     "output_type": "error",
     "traceback": [
      "\u001b[1;31mRunning cells with 'c:\\Users\\Ivar\\Downloads\\input\\end-to-end-bosten-housing-project\\venv\\python.exe' requires the ipykernel package.\n",
      "\u001b[1;31mRun the following command to install 'ipykernel' into the Python environment. \n",
      "\u001b[1;31mCommand: 'conda install -p c:\\Users\\Ivar\\Downloads\\input\\end-to-end-bosten-housing-project\\venv ipykernel --update-deps --force-reinstall'"
     ]
    }
   ],
   "source": []
  },
  {
   "cell_type": "code",
   "execution_count": null,
   "id": "27df6394",
   "metadata": {},
   "outputs": [
    {
     "ename": "",
     "evalue": "",
     "output_type": "error",
     "traceback": [
      "\u001b[1;31mRunning cells with 'c:\\Users\\Ivar\\Downloads\\input\\end-to-end-bosten-housing-project\\venv\\python.exe' requires the ipykernel package.\n",
      "\u001b[1;31mRun the following command to install 'ipykernel' into the Python environment. \n",
      "\u001b[1;31mCommand: 'conda install -p c:\\Users\\Ivar\\Downloads\\input\\end-to-end-bosten-housing-project\\venv ipykernel --update-deps --force-reinstall'"
     ]
    }
   ],
   "source": [
    "x_train=scaler.fit_transform(x_train)"
   ]
  },
  {
   "cell_type": "code",
   "execution_count": null,
   "id": "f1bfdd93",
   "metadata": {},
   "outputs": [
    {
     "ename": "",
     "evalue": "",
     "output_type": "error",
     "traceback": [
      "\u001b[1;31mRunning cells with 'c:\\Users\\Ivar\\Downloads\\input\\end-to-end-bosten-housing-project\\venv\\python.exe' requires the ipykernel package.\n",
      "\u001b[1;31mRun the following command to install 'ipykernel' into the Python environment. \n",
      "\u001b[1;31mCommand: 'conda install -p c:\\Users\\Ivar\\Downloads\\input\\end-to-end-bosten-housing-project\\venv ipykernel --update-deps --force-reinstall'"
     ]
    }
   ],
   "source": [
    "x_test=scaler.transform(x_test)"
   ]
  },
  {
   "cell_type": "code",
   "execution_count": null,
   "id": "18530c1d",
   "metadata": {},
   "outputs": [
    {
     "ename": "",
     "evalue": "",
     "output_type": "error",
     "traceback": [
      "\u001b[1;31mRunning cells with 'c:\\Users\\Ivar\\Downloads\\input\\end-to-end-bosten-housing-project\\venv\\python.exe' requires the ipykernel package.\n",
      "\u001b[1;31mRun the following command to install 'ipykernel' into the Python environment. \n",
      "\u001b[1;31mCommand: 'conda install -p c:\\Users\\Ivar\\Downloads\\input\\end-to-end-bosten-housing-project\\venv ipykernel --update-deps --force-reinstall'"
     ]
    }
   ],
   "source": [
    "import pickle \n",
    "pickle.dump(scaler,open('scaling.pkl','wb'))"
   ]
  },
  {
   "cell_type": "code",
   "execution_count": null,
   "id": "6746b30d",
   "metadata": {
    "scrolled": false
   },
   "outputs": [
    {
     "ename": "",
     "evalue": "",
     "output_type": "error",
     "traceback": [
      "\u001b[1;31mRunning cells with 'c:\\Users\\Ivar\\Downloads\\input\\end-to-end-bosten-housing-project\\venv\\python.exe' requires the ipykernel package.\n",
      "\u001b[1;31mRun the following command to install 'ipykernel' into the Python environment. \n",
      "\u001b[1;31mCommand: 'conda install -p c:\\Users\\Ivar\\Downloads\\input\\end-to-end-bosten-housing-project\\venv ipykernel --update-deps --force-reinstall'"
     ]
    }
   ],
   "source": [
    "x_train"
   ]
  },
  {
   "cell_type": "code",
   "execution_count": null,
   "id": "5838625f",
   "metadata": {
    "scrolled": true
   },
   "outputs": [
    {
     "ename": "",
     "evalue": "",
     "output_type": "error",
     "traceback": [
      "\u001b[1;31mRunning cells with 'c:\\Users\\Ivar\\Downloads\\input\\end-to-end-bosten-housing-project\\venv\\python.exe' requires the ipykernel package.\n",
      "\u001b[1;31mRun the following command to install 'ipykernel' into the Python environment. \n",
      "\u001b[1;31mCommand: 'conda install -p c:\\Users\\Ivar\\Downloads\\input\\end-to-end-bosten-housing-project\\venv ipykernel --update-deps --force-reinstall'"
     ]
    }
   ],
   "source": [
    "#how to impliment the leaner regression \n",
    "#model trainig \n",
    "from sklearn.linear_model import  LinearRegression \n",
    "regression=LinearRegression()\n",
    "regression.fit(x_train,y_train)\n"
   ]
  },
  {
   "cell_type": "code",
   "execution_count": null,
   "id": "bf703ff8",
   "metadata": {},
   "outputs": [
    {
     "ename": "",
     "evalue": "",
     "output_type": "error",
     "traceback": [
      "\u001b[1;31mRunning cells with 'c:\\Users\\Ivar\\Downloads\\input\\end-to-end-bosten-housing-project\\venv\\python.exe' requires the ipykernel package.\n",
      "\u001b[1;31mRun the following command to install 'ipykernel' into the Python environment. \n",
      "\u001b[1;31mCommand: 'conda install -p c:\\Users\\Ivar\\Downloads\\input\\end-to-end-bosten-housing-project\\venv ipykernel --update-deps --force-reinstall'"
     ]
    }
   ],
   "source": [
    "#print the coffiecent and intercept and the number below represent for a feature(crim) incerese there is this much(-1.13) value in price decrese \n",
    "print (regression.coef_)"
   ]
  },
  {
   "cell_type": "code",
   "execution_count": null,
   "id": "1765847b",
   "metadata": {},
   "outputs": [
    {
     "ename": "",
     "evalue": "",
     "output_type": "error",
     "traceback": [
      "\u001b[1;31mRunning cells with 'c:\\Users\\Ivar\\Downloads\\input\\end-to-end-bosten-housing-project\\venv\\python.exe' requires the ipykernel package.\n",
      "\u001b[1;31mRun the following command to install 'ipykernel' into the Python environment. \n",
      "\u001b[1;31mCommand: 'conda install -p c:\\Users\\Ivar\\Downloads\\input\\end-to-end-bosten-housing-project\\venv ipykernel --update-deps --force-reinstall'"
     ]
    }
   ],
   "source": [
    "print(regression.intercept_)"
   ]
  },
  {
   "cell_type": "code",
   "execution_count": null,
   "id": "4e44a772",
   "metadata": {},
   "outputs": [
    {
     "ename": "",
     "evalue": "",
     "output_type": "error",
     "traceback": [
      "\u001b[1;31mRunning cells with 'c:\\Users\\Ivar\\Downloads\\input\\end-to-end-bosten-housing-project\\venv\\python.exe' requires the ipykernel package.\n",
      "\u001b[1;31mRun the following command to install 'ipykernel' into the Python environment. \n",
      "\u001b[1;31mCommand: 'conda install -p c:\\Users\\Ivar\\Downloads\\input\\end-to-end-bosten-housing-project\\venv ipykernel --update-deps --force-reinstall'"
     ]
    }
   ],
   "source": [
    "#on wchoch parameter the model is trained \n",
    "regression.get_params()"
   ]
  },
  {
   "cell_type": "code",
   "execution_count": null,
   "id": "e7dbdda7",
   "metadata": {},
   "outputs": [
    {
     "ename": "",
     "evalue": "",
     "output_type": "error",
     "traceback": [
      "\u001b[1;31mRunning cells with 'c:\\Users\\Ivar\\Downloads\\input\\end-to-end-bosten-housing-project\\venv\\python.exe' requires the ipykernel package.\n",
      "\u001b[1;31mRun the following command to install 'ipykernel' into the Python environment. \n",
      "\u001b[1;31mCommand: 'conda install -p c:\\Users\\Ivar\\Downloads\\input\\end-to-end-bosten-housing-project\\venv ipykernel --update-deps --force-reinstall'"
     ]
    }
   ],
   "source": [
    "preditct=regression.predict(x_test)"
   ]
  },
  {
   "cell_type": "code",
   "execution_count": null,
   "id": "990b6bef",
   "metadata": {},
   "outputs": [
    {
     "ename": "",
     "evalue": "",
     "output_type": "error",
     "traceback": [
      "\u001b[1;31mRunning cells with 'c:\\Users\\Ivar\\Downloads\\input\\end-to-end-bosten-housing-project\\venv\\python.exe' requires the ipykernel package.\n",
      "\u001b[1;31mRun the following command to install 'ipykernel' into the Python environment. \n",
      "\u001b[1;31mCommand: 'conda install -p c:\\Users\\Ivar\\Downloads\\input\\end-to-end-bosten-housing-project\\venv ipykernel --update-deps --force-reinstall'"
     ]
    }
   ],
   "source": [
    "#plot for the prediction \n",
    "#the model is performing good cuz its linear\n",
    "plt.scatter(y_test,preditct)"
   ]
  },
  {
   "cell_type": "code",
   "execution_count": null,
   "id": "594b0f13",
   "metadata": {},
   "outputs": [
    {
     "ename": "",
     "evalue": "",
     "output_type": "error",
     "traceback": [
      "\u001b[1;31mRunning cells with 'c:\\Users\\Ivar\\Downloads\\input\\end-to-end-bosten-housing-project\\venv\\python.exe' requires the ipykernel package.\n",
      "\u001b[1;31mRun the following command to install 'ipykernel' into the Python environment. \n",
      "\u001b[1;31mCommand: 'conda install -p c:\\Users\\Ivar\\Downloads\\input\\end-to-end-bosten-housing-project\\venv ipykernel --update-deps --force-reinstall'"
     ]
    }
   ],
   "source": [
    "#residual or the error\n",
    "residual=y_test-preditct\n",
    "residual"
   ]
  },
  {
   "cell_type": "code",
   "execution_count": null,
   "id": "5e7671f4",
   "metadata": {},
   "outputs": [
    {
     "ename": "",
     "evalue": "",
     "output_type": "error",
     "traceback": [
      "\u001b[1;31mRunning cells with 'c:\\Users\\Ivar\\Downloads\\input\\end-to-end-bosten-housing-project\\venv\\python.exe' requires the ipykernel package.\n",
      "\u001b[1;31mRun the following command to install 'ipykernel' into the Python environment. \n",
      "\u001b[1;31mCommand: 'conda install -p c:\\Users\\Ivar\\Downloads\\input\\end-to-end-bosten-housing-project\\venv ipykernel --update-deps --force-reinstall'"
     ]
    }
   ],
   "source": [
    "#plt residual\n",
    "## the model is good because normal distribtion\n",
    "sns.displot(residual,kind='kde')"
   ]
  },
  {
   "cell_type": "code",
   "execution_count": null,
   "id": "b6a82da4",
   "metadata": {},
   "outputs": [
    {
     "ename": "",
     "evalue": "",
     "output_type": "error",
     "traceback": [
      "\u001b[1;31mRunning cells with 'c:\\Users\\Ivar\\Downloads\\input\\end-to-end-bosten-housing-project\\venv\\python.exe' requires the ipykernel package.\n",
      "\u001b[1;31mRun the following command to install 'ipykernel' into the Python environment. \n",
      "\u001b[1;31mCommand: 'conda install -p c:\\Users\\Ivar\\Downloads\\input\\end-to-end-bosten-housing-project\\venv ipykernel --update-deps --force-reinstall'"
     ]
    }
   ],
   "source": [
    "plt.scatter(residual,preditct)\n",
    "#unifomly dist"
   ]
  },
  {
   "cell_type": "code",
   "execution_count": null,
   "id": "7cd6f2c7",
   "metadata": {
    "scrolled": true
   },
   "outputs": [
    {
     "ename": "",
     "evalue": "",
     "output_type": "error",
     "traceback": [
      "\u001b[1;31mRunning cells with 'c:\\Users\\Ivar\\Downloads\\input\\end-to-end-bosten-housing-project\\venv\\python.exe' requires the ipykernel package.\n",
      "\u001b[1;31mRun the following command to install 'ipykernel' into the Python environment. \n",
      "\u001b[1;31mCommand: 'conda install -p c:\\Users\\Ivar\\Downloads\\input\\end-to-end-bosten-housing-project\\venv ipykernel --update-deps --force-reinstall'"
     ]
    }
   ],
   "source": [
    "#from sklearn.metrics import mean_squard_error\n",
    "from sklearn.metrics import mean_absoult_error\n",
    "mean_absoult_error(t_test,predict)"
   ]
  },
  {
   "cell_type": "code",
   "execution_count": null,
   "id": "1365f0ba",
   "metadata": {},
   "outputs": [
    {
     "ename": "",
     "evalue": "",
     "output_type": "error",
     "traceback": [
      "\u001b[1;31mRunning cells with 'c:\\Users\\Ivar\\Downloads\\input\\end-to-end-bosten-housing-project\\venv\\python.exe' requires the ipykernel package.\n",
      "\u001b[1;31mRun the following command to install 'ipykernel' into the Python environment. \n",
      "\u001b[1;31mCommand: 'conda install -p c:\\Users\\Ivar\\Downloads\\input\\end-to-end-bosten-housing-project\\venv ipykernel --update-deps --force-reinstall'"
     ]
    }
   ],
   "source": [
    "#r squard and adjestred\n"
   ]
  },
  {
   "cell_type": "markdown",
   "id": "ee451fc8",
   "metadata": {},
   "source": [
    "# new data prediction"
   ]
  },
  {
   "cell_type": "code",
   "execution_count": null,
   "id": "de3e5dc8",
   "metadata": {
    "scrolled": true
   },
   "outputs": [
    {
     "ename": "",
     "evalue": "",
     "output_type": "error",
     "traceback": [
      "\u001b[1;31mRunning cells with 'c:\\Users\\Ivar\\Downloads\\input\\end-to-end-bosten-housing-project\\venv\\python.exe' requires the ipykernel package.\n",
      "\u001b[1;31mRun the following command to install 'ipykernel' into the Python environment. \n",
      "\u001b[1;31mCommand: 'conda install -p c:\\Users\\Ivar\\Downloads\\input\\end-to-end-bosten-housing-project\\venv ipykernel --update-deps --force-reinstall'"
     ]
    }
   ],
   "source": [
    "data_set.drop('MEDV',axis=1).iloc[0].values.reshape(1,-1)"
   ]
  },
  {
   "cell_type": "code",
   "execution_count": null,
   "id": "9c0343d4",
   "metadata": {
    "scrolled": true
   },
   "outputs": [
    {
     "ename": "",
     "evalue": "",
     "output_type": "error",
     "traceback": [
      "\u001b[1;31mRunning cells with 'c:\\Users\\Ivar\\Downloads\\input\\end-to-end-bosten-housing-project\\venv\\python.exe' requires the ipykernel package.\n",
      "\u001b[1;31mRun the following command to install 'ipykernel' into the Python environment. \n",
      "\u001b[1;31mCommand: 'conda install -p c:\\Users\\Ivar\\Downloads\\input\\end-to-end-bosten-housing-project\\venv ipykernel --update-deps --force-reinstall'"
     ]
    }
   ],
   "source": [
    "\n",
    "from sklearn.preprocessing import StandardScaler\n",
    "\n",
    "# Initialize the StandardScaler\n",
    "scaler1 = StandardScaler()\n",
    "\n",
    "# Fit the scaler on the entire dataset excluding the target column 'MEDV'\n",
    "scaler1.fit(data_set.drop('MEDV', axis=1))\n",
    "\n",
    "# Transform the first row (excluding 'MEDV')\n",
    "scaled_item = scaler1.transform(data_set.drop('MEDV', axis=1).iloc[0].values.reshape(1, -1))\n",
    "\n",
    "# Output the scaled row\n",
    "print(scaled_item)\n"
   ]
  },
  {
   "cell_type": "code",
   "execution_count": null,
   "id": "ea13eb0c",
   "metadata": {},
   "outputs": [
    {
     "ename": "",
     "evalue": "",
     "output_type": "error",
     "traceback": [
      "\u001b[1;31mRunning cells with 'c:\\Users\\Ivar\\Downloads\\input\\end-to-end-bosten-housing-project\\venv\\python.exe' requires the ipykernel package.\n",
      "\u001b[1;31mRun the following command to install 'ipykernel' into the Python environment. \n",
      "\u001b[1;31mCommand: 'conda install -p c:\\Users\\Ivar\\Downloads\\input\\end-to-end-bosten-housing-project\\venv ipykernel --update-deps --force-reinstall'"
     ]
    }
   ],
   "source": [
    "regression.predict(scaled_item)"
   ]
  },
  {
   "cell_type": "markdown",
   "id": "7ba2c4b4",
   "metadata": {},
   "source": [
    "# pickling the model file for deployment"
   ]
  },
  {
   "cell_type": "code",
   "execution_count": null,
   "id": "e24d679e",
   "metadata": {},
   "outputs": [
    {
     "ename": "",
     "evalue": "",
     "output_type": "error",
     "traceback": [
      "\u001b[1;31mRunning cells with 'c:\\Users\\Ivar\\Downloads\\input\\end-to-end-bosten-housing-project\\venv\\python.exe' requires the ipykernel package.\n",
      "\u001b[1;31mRun the following command to install 'ipykernel' into the Python environment. \n",
      "\u001b[1;31mCommand: 'conda install -p c:\\Users\\Ivar\\Downloads\\input\\end-to-end-bosten-housing-project\\venv ipykernel --update-deps --force-reinstall'"
     ]
    }
   ],
   "source": [
    "import pickle"
   ]
  },
  {
   "cell_type": "code",
   "execution_count": null,
   "id": "10782322",
   "metadata": {},
   "outputs": [
    {
     "ename": "",
     "evalue": "",
     "output_type": "error",
     "traceback": [
      "\u001b[1;31mRunning cells with 'c:\\Users\\Ivar\\Downloads\\input\\end-to-end-bosten-housing-project\\venv\\python.exe' requires the ipykernel package.\n",
      "\u001b[1;31mRun the following command to install 'ipykernel' into the Python environment. \n",
      "\u001b[1;31mCommand: 'conda install -p c:\\Users\\Ivar\\Downloads\\input\\end-to-end-bosten-housing-project\\venv ipykernel --update-deps --force-reinstall'"
     ]
    }
   ],
   "source": [
    "pickle.dump(regression,open('regmodel.pkl','wb'))"
   ]
  },
  {
   "cell_type": "code",
   "execution_count": null,
   "id": "ed2d7c43",
   "metadata": {},
   "outputs": [
    {
     "ename": "",
     "evalue": "",
     "output_type": "error",
     "traceback": [
      "\u001b[1;31mRunning cells with 'c:\\Users\\Ivar\\Downloads\\input\\end-to-end-bosten-housing-project\\venv\\python.exe' requires the ipykernel package.\n",
      "\u001b[1;31mRun the following command to install 'ipykernel' into the Python environment. \n",
      "\u001b[1;31mCommand: 'conda install -p c:\\Users\\Ivar\\Downloads\\input\\end-to-end-bosten-housing-project\\venv ipykernel --update-deps --force-reinstall'"
     ]
    }
   ],
   "source": [
    "pickle_model=pickle.load(open('regmodel.pkl','rb'))"
   ]
  },
  {
   "cell_type": "code",
   "execution_count": null,
   "id": "411c51bb",
   "metadata": {},
   "outputs": [
    {
     "ename": "",
     "evalue": "",
     "output_type": "error",
     "traceback": [
      "\u001b[1;31mRunning cells with 'c:\\Users\\Ivar\\Downloads\\input\\end-to-end-bosten-housing-project\\venv\\python.exe' requires the ipykernel package.\n",
      "\u001b[1;31mRun the following command to install 'ipykernel' into the Python environment. \n",
      "\u001b[1;31mCommand: 'conda install -p c:\\Users\\Ivar\\Downloads\\input\\end-to-end-bosten-housing-project\\venv ipykernel --update-deps --force-reinstall'"
     ]
    }
   ],
   "source": [
    "pickle_model.predict(scaled_item)"
   ]
  },
  {
   "cell_type": "code",
   "execution_count": null,
   "id": "7b6afcd7",
   "metadata": {},
   "outputs": [
    {
     "ename": "",
     "evalue": "",
     "output_type": "error",
     "traceback": [
      "\u001b[1;31mRunning cells with 'c:\\Users\\Ivar\\Downloads\\input\\end-to-end-bosten-housing-project\\venv\\python.exe' requires the ipykernel package.\n",
      "\u001b[1;31mRun the following command to install 'ipykernel' into the Python environment. \n",
      "\u001b[1;31mCommand: 'conda install -p c:\\Users\\Ivar\\Downloads\\input\\end-to-end-bosten-housing-project\\venv ipykernel --update-deps --force-reinstall'"
     ]
    }
   ],
   "source": []
  }
 ],
 "metadata": {
  "kernelspec": {
   "display_name": "Python 3 (ipykernel)",
   "language": "python",
   "name": "python3"
  },
  "language_info": {
   "codemirror_mode": {
    "name": "ipython",
    "version": 3
   },
   "file_extension": ".py",
   "mimetype": "text/x-python",
   "name": "python",
   "nbconvert_exporter": "python",
   "pygments_lexer": "ipython3",
   "version": "3.7.0"
  }
 },
 "nbformat": 4,
 "nbformat_minor": 5
}
